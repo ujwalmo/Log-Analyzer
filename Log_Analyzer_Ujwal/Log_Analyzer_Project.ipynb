{
 "cells": [
  {
   "cell_type": "code",
   "execution_count": 1,
   "metadata": {},
   "outputs": [],
   "source": [
    "import pandas as pd\n",
    "import numpy as np\n",
    "from datetime import timedelta\n",
    "import matplotlib.pyplot as plt\n",
    "import seaborn as sns\n",
    "import joblib\n",
    "\n",
    "from sklearn.svm import OneClassSVM\n",
    "from sklearn.ensemble import IsolationForest\n",
    "from sklearn.metrics import mean_squared_error, roc_curve, confusion_matrix, roc_auc_score\n",
    "from sklearn.model_selection import train_test_split\n",
    "from sklearn.preprocessing import StandardScaler, LabelEncoder\n",
    "\n",
    "from tensorflow.keras.models import Sequential\n",
    "from tensorflow.keras.layers import Dense\n",
    "from tensorflow.keras.losses import MeanSquaredError\n",
    "\n",
    "import warnings\n",
    "warnings.filterwarnings('ignore')\n"
   ]
  },
  {
   "cell_type": "code",
   "execution_count": 2,
   "metadata": {},
   "outputs": [],
   "source": [
    "path = r\"D:\\PROJECTS\\combined_log_data.csv\"\n",
    "df = pd.read_csv(path)"
   ]
  },
  {
   "cell_type": "code",
   "execution_count": 3,
   "metadata": {},
   "outputs": [
    {
     "name": "stdout",
     "output_type": "stream",
     "text": [
      "<class 'pandas.core.frame.DataFrame'>\n",
      "RangeIndex: 20787 entries, 0 to 20786\n",
      "Data columns (total 4 columns):\n",
      " #   Column     Non-Null Count  Dtype \n",
      "---  ------     --------------  ----- \n",
      " 0   IP         20787 non-null  object\n",
      " 1   TimeStamp  20787 non-null  object\n",
      " 2   URL        20787 non-null  object\n",
      " 3   Status     20787 non-null  int64 \n",
      "dtypes: int64(1), object(3)\n",
      "memory usage: 649.7+ KB\n"
     ]
    }
   ],
   "source": [
    "df.info()"
   ]
  },
  {
   "cell_type": "code",
   "execution_count": 4,
   "metadata": {},
   "outputs": [
    {
     "data": {
      "text/html": [
       "<div>\n",
       "<style scoped>\n",
       "    .dataframe tbody tr th:only-of-type {\n",
       "        vertical-align: middle;\n",
       "    }\n",
       "\n",
       "    .dataframe tbody tr th {\n",
       "        vertical-align: top;\n",
       "    }\n",
       "\n",
       "    .dataframe thead th {\n",
       "        text-align: right;\n",
       "    }\n",
       "</style>\n",
       "<table border=\"1\" class=\"dataframe\">\n",
       "  <thead>\n",
       "    <tr style=\"text-align: right;\">\n",
       "      <th></th>\n",
       "      <th>Status</th>\n",
       "    </tr>\n",
       "  </thead>\n",
       "  <tbody>\n",
       "    <tr>\n",
       "      <th>count</th>\n",
       "      <td>20787.000000</td>\n",
       "    </tr>\n",
       "    <tr>\n",
       "      <th>mean</th>\n",
       "      <td>311.167316</td>\n",
       "    </tr>\n",
       "    <tr>\n",
       "      <th>std</th>\n",
       "      <td>93.902886</td>\n",
       "    </tr>\n",
       "    <tr>\n",
       "      <th>min</th>\n",
       "      <td>200.000000</td>\n",
       "    </tr>\n",
       "    <tr>\n",
       "      <th>25%</th>\n",
       "      <td>200.000000</td>\n",
       "    </tr>\n",
       "    <tr>\n",
       "      <th>50%</th>\n",
       "      <td>304.000000</td>\n",
       "    </tr>\n",
       "    <tr>\n",
       "      <th>75%</th>\n",
       "      <td>401.000000</td>\n",
       "    </tr>\n",
       "    <tr>\n",
       "      <th>max</th>\n",
       "      <td>404.000000</td>\n",
       "    </tr>\n",
       "  </tbody>\n",
       "</table>\n",
       "</div>"
      ],
      "text/plain": [
       "             Status\n",
       "count  20787.000000\n",
       "mean     311.167316\n",
       "std       93.902886\n",
       "min      200.000000\n",
       "25%      200.000000\n",
       "50%      304.000000\n",
       "75%      401.000000\n",
       "max      404.000000"
      ]
     },
     "execution_count": 4,
     "metadata": {},
     "output_type": "execute_result"
    }
   ],
   "source": [
    "df.describe()"
   ]
  },
  {
   "cell_type": "code",
   "execution_count": 5,
   "metadata": {},
   "outputs": [
    {
     "data": {
      "text/html": [
       "<div>\n",
       "<style scoped>\n",
       "    .dataframe tbody tr th:only-of-type {\n",
       "        vertical-align: middle;\n",
       "    }\n",
       "\n",
       "    .dataframe tbody tr th {\n",
       "        vertical-align: top;\n",
       "    }\n",
       "\n",
       "    .dataframe thead th {\n",
       "        text-align: right;\n",
       "    }\n",
       "</style>\n",
       "<table border=\"1\" class=\"dataframe\">\n",
       "  <thead>\n",
       "    <tr style=\"text-align: right;\">\n",
       "      <th></th>\n",
       "      <th>IP</th>\n",
       "      <th>TimeStamp</th>\n",
       "      <th>URL</th>\n",
       "      <th>Status</th>\n",
       "    </tr>\n",
       "  </thead>\n",
       "  <tbody>\n",
       "    <tr>\n",
       "      <th>0</th>\n",
       "      <td>10.131.0.1</td>\n",
       "      <td>2017-12-17 18:42:09</td>\n",
       "      <td>GET /contestproblem.php?name=ROJ%20Testing%20C...</td>\n",
       "      <td>403</td>\n",
       "    </tr>\n",
       "    <tr>\n",
       "      <th>1</th>\n",
       "      <td>10.131.0.1</td>\n",
       "      <td>2017-11-19 22:30:23</td>\n",
       "      <td>POST /allsubmission.php HTTP/1.1</td>\n",
       "      <td>403</td>\n",
       "    </tr>\n",
       "    <tr>\n",
       "      <th>2</th>\n",
       "      <td>10.130.2.1</td>\n",
       "      <td>2017-12-01 14:21:50</td>\n",
       "      <td>GET /img/ruet.png HTTP/1.1</td>\n",
       "      <td>200</td>\n",
       "    </tr>\n",
       "    <tr>\n",
       "      <th>3</th>\n",
       "      <td>10.130.2.1</td>\n",
       "      <td>2018-01-29 20:18:00</td>\n",
       "      <td>GET /home.php HTTP/1.1</td>\n",
       "      <td>302</td>\n",
       "    </tr>\n",
       "    <tr>\n",
       "      <th>4</th>\n",
       "      <td>10.128.2.1</td>\n",
       "      <td>2018-01-18 12:48:44</td>\n",
       "      <td>GET /archive.php HTTP/1.1</td>\n",
       "      <td>200</td>\n",
       "    </tr>\n",
       "  </tbody>\n",
       "</table>\n",
       "</div>"
      ],
      "text/plain": [
       "           IP            TimeStamp  \\\n",
       "0  10.131.0.1  2017-12-17 18:42:09   \n",
       "1  10.131.0.1  2017-11-19 22:30:23   \n",
       "2  10.130.2.1  2017-12-01 14:21:50   \n",
       "3  10.130.2.1  2018-01-29 20:18:00   \n",
       "4  10.128.2.1  2018-01-18 12:48:44   \n",
       "\n",
       "                                                 URL  Status  \n",
       "0  GET /contestproblem.php?name=ROJ%20Testing%20C...     403  \n",
       "1                   POST /allsubmission.php HTTP/1.1     403  \n",
       "2                         GET /img/ruet.png HTTP/1.1     200  \n",
       "3                             GET /home.php HTTP/1.1     302  \n",
       "4                          GET /archive.php HTTP/1.1     200  "
      ]
     },
     "execution_count": 5,
     "metadata": {},
     "output_type": "execute_result"
    }
   ],
   "source": [
    "df.head()"
   ]
  },
  {
   "cell_type": "code",
   "execution_count": 6,
   "metadata": {},
   "outputs": [
    {
     "name": "stdout",
     "output_type": "stream",
     "text": [
      "Z-scores for number of requests per IP address:\n",
      "IP\n",
      "10.128.2.1    0.460913\n",
      "10.129.2.1   -1.065641\n",
      "10.130.2.1    0.838131\n",
      "10.131.0.1    0.863672\n",
      "10.131.2.1   -1.097076\n",
      "dtype: float64\n"
     ]
    }
   ],
   "source": [
    "def calculate_zscore(data):\n",
    "    \n",
    "    requests_per_ip = data.groupby('IP').size()\n",
    "    \n",
    "    mean_requests = requests_per_ip.mean()\n",
    "    std_dev_requests = requests_per_ip.std()\n",
    "    \n",
    "    requests_per_ip['Z-score'] = (requests_per_ip - mean_requests) / std_dev_requests\n",
    "    \n",
    "    return requests_per_ip\n",
    "\n",
    "zscore_data = calculate_zscore(df)\n",
    "print(\"Z-scores for number of requests per IP address:\")\n",
    "print(zscore_data[5])"
   ]
  },
  {
   "cell_type": "code",
   "execution_count": 7,
   "metadata": {},
   "outputs": [],
   "source": [
    "df_no_duplicates = df.drop_duplicates()\n",
    "df = df_no_duplicates"
   ]
  },
  {
   "cell_type": "code",
   "execution_count": 8,
   "metadata": {},
   "outputs": [],
   "source": [
    "df['TimeStamp'] = pd.to_datetime(df['TimeStamp'])"
   ]
  },
  {
   "cell_type": "code",
   "execution_count": 9,
   "metadata": {},
   "outputs": [],
   "source": [
    "df = df.sort_values(by=['IP', 'TimeStamp'])"
   ]
  },
  {
   "cell_type": "code",
   "execution_count": 10,
   "metadata": {},
   "outputs": [],
   "source": [
    "time_threshold = timedelta(minutes=20)\n",
    "\n",
    "def check_anomalies(group):\n",
    "    anomalies = []\n",
    "    prev_time = None\n",
    "    for index, row in group.iterrows():\n",
    "        if prev_time is not None and row['TimeStamp'] - prev_time <= time_threshold:\n",
    "            if row['Status'] in [401, 403, 400]:\n",
    "                anomalies.append(1)\n",
    "            else:\n",
    "                anomalies.append(0)\n",
    "        else:\n",
    "            anomalies.append(0)\n",
    "        prev_time = row['TimeStamp']\n",
    "    return anomalies"
   ]
  },
  {
   "cell_type": "code",
   "execution_count": 11,
   "metadata": {},
   "outputs": [],
   "source": [
    "df['Anomaly'] = df.groupby('IP').apply(check_anomalies).explode().reset_index(drop=True)\n",
    "df.dropna(subset=['Anomaly'], inplace=True)"
   ]
  },
  {
   "cell_type": "code",
   "execution_count": 12,
   "metadata": {},
   "outputs": [
    {
     "data": {
      "text/html": [
       "<div>\n",
       "<style scoped>\n",
       "    .dataframe tbody tr th:only-of-type {\n",
       "        vertical-align: middle;\n",
       "    }\n",
       "\n",
       "    .dataframe tbody tr th {\n",
       "        vertical-align: top;\n",
       "    }\n",
       "\n",
       "    .dataframe thead th {\n",
       "        text-align: right;\n",
       "    }\n",
       "</style>\n",
       "<table border=\"1\" class=\"dataframe\">\n",
       "  <thead>\n",
       "    <tr style=\"text-align: right;\">\n",
       "      <th></th>\n",
       "      <th>IP</th>\n",
       "      <th>TimeStamp</th>\n",
       "      <th>URL</th>\n",
       "      <th>Status</th>\n",
       "      <th>Anomaly</th>\n",
       "    </tr>\n",
       "  </thead>\n",
       "  <tbody>\n",
       "    <tr>\n",
       "      <th>660</th>\n",
       "      <td>10.128.2.1</td>\n",
       "      <td>2017-11-08 01:36:22</td>\n",
       "      <td>GET / HTTP/1.1</td>\n",
       "      <td>302</td>\n",
       "      <td>1</td>\n",
       "    </tr>\n",
       "    <tr>\n",
       "      <th>4339</th>\n",
       "      <td>10.128.2.1</td>\n",
       "      <td>2017-11-08 05:01:22</td>\n",
       "      <td>GET / HTTP/1.1</td>\n",
       "      <td>302</td>\n",
       "      <td>1</td>\n",
       "    </tr>\n",
       "    <tr>\n",
       "      <th>17332</th>\n",
       "      <td>10.128.2.1</td>\n",
       "      <td>2017-11-08 06:05:21</td>\n",
       "      <td>GET /description.php?id=73 HTTP/1.1</td>\n",
       "      <td>400</td>\n",
       "      <td>0</td>\n",
       "    </tr>\n",
       "    <tr>\n",
       "      <th>1430</th>\n",
       "      <td>10.128.2.1</td>\n",
       "      <td>2017-11-08 06:52:17</td>\n",
       "      <td>GET /pcompile.php HTTP/1.1</td>\n",
       "      <td>400</td>\n",
       "      <td>1</td>\n",
       "    </tr>\n",
       "    <tr>\n",
       "      <th>4998</th>\n",
       "      <td>10.128.2.1</td>\n",
       "      <td>2017-11-08 08:32:29</td>\n",
       "      <td>GET /contestsubmit.php?id=45 HTTP/1.1</td>\n",
       "      <td>400</td>\n",
       "      <td>1</td>\n",
       "    </tr>\n",
       "  </tbody>\n",
       "</table>\n",
       "</div>"
      ],
      "text/plain": [
       "               IP           TimeStamp                                    URL  \\\n",
       "660    10.128.2.1 2017-11-08 01:36:22                         GET / HTTP/1.1   \n",
       "4339   10.128.2.1 2017-11-08 05:01:22                         GET / HTTP/1.1   \n",
       "17332  10.128.2.1 2017-11-08 06:05:21    GET /description.php?id=73 HTTP/1.1   \n",
       "1430   10.128.2.1 2017-11-08 06:52:17             GET /pcompile.php HTTP/1.1   \n",
       "4998   10.128.2.1 2017-11-08 08:32:29  GET /contestsubmit.php?id=45 HTTP/1.1   \n",
       "\n",
       "       Status Anomaly  \n",
       "660       302       1  \n",
       "4339      302       1  \n",
       "17332     400       0  \n",
       "1430      400       1  \n",
       "4998      400       1  "
      ]
     },
     "execution_count": 12,
     "metadata": {},
     "output_type": "execute_result"
    }
   ],
   "source": [
    "df.head()"
   ]
  },
  {
   "cell_type": "code",
   "execution_count": 13,
   "metadata": {},
   "outputs": [],
   "source": [
    "numeric_columns = df.select_dtypes(include=['float64', 'int64']).columns\n",
    "\n",
    "X_train, X_test = train_test_split(df[numeric_columns], test_size=0.2, random_state=42)\n",
    "\n",
    "X_test_no_anomaly = X_test.copy()\n",
    "if 'Anomaly' in X_test_no_anomaly.columns:\n",
    "    X_test_no_anomaly.drop('Anomaly', axis=1, inplace=True)\n",
    "\n",
    "scaler = StandardScaler()\n",
    "X_train_scaled = scaler.fit_transform(X_train)\n",
    "X_test_scaled = scaler.transform(X_test_no_anomaly)"
   ]
  },
  {
   "cell_type": "code",
   "execution_count": 14,
   "metadata": {},
   "outputs": [
    {
     "name": "stdout",
     "output_type": "stream",
     "text": [
      "Epoch 1/10\n",
      "\u001b[1m404/404\u001b[0m \u001b[32m━━━━━━━━━━━━━━━━━━━━\u001b[0m\u001b[37m\u001b[0m \u001b[1m4s\u001b[0m 3ms/step - loss: 0.2433 - val_loss: 2.7715e-05\n",
      "Epoch 2/10\n",
      "\u001b[1m404/404\u001b[0m \u001b[32m━━━━━━━━━━━━━━━━━━━━\u001b[0m\u001b[37m\u001b[0m \u001b[1m1s\u001b[0m 2ms/step - loss: 2.7817e-05 - val_loss: 2.9400e-05\n",
      "Epoch 3/10\n",
      "\u001b[1m404/404\u001b[0m \u001b[32m━━━━━━━━━━━━━━━━━━━━\u001b[0m\u001b[37m\u001b[0m \u001b[1m1s\u001b[0m 2ms/step - loss: 2.7618e-05 - val_loss: 2.7290e-05\n",
      "Epoch 4/10\n",
      "\u001b[1m404/404\u001b[0m \u001b[32m━━━━━━━━━━━━━━━━━━━━\u001b[0m\u001b[37m\u001b[0m \u001b[1m1s\u001b[0m 2ms/step - loss: 2.7043e-05 - val_loss: 2.7051e-05\n",
      "Epoch 5/10\n",
      "\u001b[1m404/404\u001b[0m \u001b[32m━━━━━━━━━━━━━━━━━━━━\u001b[0m\u001b[37m\u001b[0m \u001b[1m1s\u001b[0m 2ms/step - loss: 2.6884e-05 - val_loss: 2.6872e-05\n",
      "Epoch 6/10\n",
      "\u001b[1m404/404\u001b[0m \u001b[32m━━━━━━━━━━━━━━━━━━━━\u001b[0m\u001b[37m\u001b[0m \u001b[1m1s\u001b[0m 2ms/step - loss: 2.7048e-05 - val_loss: 2.5391e-05\n",
      "Epoch 7/10\n",
      "\u001b[1m404/404\u001b[0m \u001b[32m━━━━━━━━━━━━━━━━━━━━\u001b[0m\u001b[37m\u001b[0m \u001b[1m1s\u001b[0m 2ms/step - loss: 2.6470e-05 - val_loss: 2.7765e-05\n",
      "Epoch 8/10\n",
      "\u001b[1m404/404\u001b[0m \u001b[32m━━━━━━━━━━━━━━━━━━━━\u001b[0m\u001b[37m\u001b[0m \u001b[1m1s\u001b[0m 2ms/step - loss: 2.5917e-05 - val_loss: 2.3687e-05\n",
      "Epoch 9/10\n",
      "\u001b[1m404/404\u001b[0m \u001b[32m━━━━━━━━━━━━━━━━━━━━\u001b[0m\u001b[37m\u001b[0m \u001b[1m1s\u001b[0m 2ms/step - loss: 2.4438e-05 - val_loss: 2.2491e-05\n",
      "Epoch 10/10\n",
      "\u001b[1m404/404\u001b[0m \u001b[32m━━━━━━━━━━━━━━━━━━━━\u001b[0m\u001b[37m\u001b[0m \u001b[1m1s\u001b[0m 3ms/step - loss: 2.3439e-05 - val_loss: 2.0712e-05\n"
     ]
    },
    {
     "data": {
      "text/plain": [
       "<keras.src.callbacks.history.History at 0x1f483a37be0>"
      ]
     },
     "execution_count": 14,
     "metadata": {},
     "output_type": "execute_result"
    }
   ],
   "source": [
    "model = Sequential([\n",
    "    Dense(32, activation='relu', input_shape=(X_train_scaled.shape[1],)),\n",
    "    Dense(16, activation='relu'),\n",
    "    Dense(8, activation='relu'),\n",
    "    Dense(16, activation='relu'),\n",
    "    Dense(32, activation='relu'),\n",
    "    Dense(X_train_scaled.shape[1])\n",
    "])\n",
    "\n",
    "model.compile(optimizer='adam', loss=MeanSquaredError())\n",
    "model.fit(X_train_scaled, X_train_scaled, epochs=10, batch_size=32, validation_split=0.1)"
   ]
  },
  {
   "cell_type": "code",
   "execution_count": 15,
   "metadata": {},
   "outputs": [
    {
     "name": "stdout",
     "output_type": "stream",
     "text": [
      "\u001b[1m113/113\u001b[0m \u001b[32m━━━━━━━━━━━━━━━━━━━━\u001b[0m\u001b[37m\u001b[0m \u001b[1m1s\u001b[0m 4ms/step\n",
      "Anomalies detected.\n"
     ]
    }
   ],
   "source": [
    "X_test_pred = model.predict(X_test_scaled)\n",
    "reconstruction_error = mean_squared_error(X_test_scaled, X_test_pred)\n",
    "threshold = -5e-5  \n",
    "anomalies = reconstruction_error > threshold\n",
    "\n",
    "if anomalies.any():\n",
    "    print(\"Anomalies detected.\")\n",
    "else:\n",
    "    print(\"No anomalies detected.\")"
   ]
  },
  {
   "cell_type": "code",
   "execution_count": 32,
   "metadata": {},
   "outputs": [],
   "source": [
    "df['TimeStamp'] = pd.to_datetime(df['TimeStamp'])\n",
    "\n",
    "label_encoders = {}\n",
    "for column in ['IP','URL', 'Status','TimeStamp']:\n",
    "    label_encoders[column] = LabelEncoder()\n",
    "    df[column] = label_encoders[column].fit_transform(df[column])\n",
    "\n",
    "X = df[['IP','URL', 'Status','TimeStamp']]\n",
    "\n",
    "svm_model = OneClassSVM()\n",
    "svm_model.fit(X)\n",
    "\n",
    "isolation_forest_model = IsolationForest()\n",
    "isolation_forest_model.fit(X)\n",
    "\n",
    "df['SVM_Anomaly'] = (svm_model.predict(X) == 1).astype(int)  # Convert -1 to 0 and 1 to 1\n",
    "df['Isolation_Forest_Anomaly'] = (isolation_forest_model.predict(X) == 1).astype(int)  # Convert -1 to 0 and 1 to 1"
   ]
  },
  {
   "cell_type": "code",
   "execution_count": 33,
   "metadata": {},
   "outputs": [
    {
     "data": {
      "text/html": [
       "<div>\n",
       "<style scoped>\n",
       "    .dataframe tbody tr th:only-of-type {\n",
       "        vertical-align: middle;\n",
       "    }\n",
       "\n",
       "    .dataframe tbody tr th {\n",
       "        vertical-align: top;\n",
       "    }\n",
       "\n",
       "    .dataframe thead th {\n",
       "        text-align: right;\n",
       "    }\n",
       "</style>\n",
       "<table border=\"1\" class=\"dataframe\">\n",
       "  <thead>\n",
       "    <tr style=\"text-align: right;\">\n",
       "      <th></th>\n",
       "      <th>IP</th>\n",
       "      <th>TimeStamp</th>\n",
       "      <th>URL</th>\n",
       "      <th>Status</th>\n",
       "      <th>Anomaly</th>\n",
       "      <th>URL_Length</th>\n",
       "      <th>SVM_Anomaly</th>\n",
       "      <th>Isolation_Forest_Anomaly</th>\n",
       "    </tr>\n",
       "  </thead>\n",
       "  <tbody>\n",
       "    <tr>\n",
       "      <th>660</th>\n",
       "      <td>0</td>\n",
       "      <td>2</td>\n",
       "      <td>1</td>\n",
       "      <td>2</td>\n",
       "      <td>1</td>\n",
       "      <td>1</td>\n",
       "      <td>0</td>\n",
       "      <td>0</td>\n",
       "    </tr>\n",
       "    <tr>\n",
       "      <th>4339</th>\n",
       "      <td>0</td>\n",
       "      <td>4</td>\n",
       "      <td>1</td>\n",
       "      <td>2</td>\n",
       "      <td>1</td>\n",
       "      <td>1</td>\n",
       "      <td>0</td>\n",
       "      <td>0</td>\n",
       "    </tr>\n",
       "    <tr>\n",
       "      <th>17332</th>\n",
       "      <td>0</td>\n",
       "      <td>7</td>\n",
       "      <td>90</td>\n",
       "      <td>4</td>\n",
       "      <td>0</td>\n",
       "      <td>2</td>\n",
       "      <td>0</td>\n",
       "      <td>0</td>\n",
       "    </tr>\n",
       "    <tr>\n",
       "      <th>1430</th>\n",
       "      <td>0</td>\n",
       "      <td>8</td>\n",
       "      <td>165</td>\n",
       "      <td>4</td>\n",
       "      <td>1</td>\n",
       "      <td>3</td>\n",
       "      <td>0</td>\n",
       "      <td>0</td>\n",
       "    </tr>\n",
       "    <tr>\n",
       "      <th>4998</th>\n",
       "      <td>0</td>\n",
       "      <td>10</td>\n",
       "      <td>65</td>\n",
       "      <td>4</td>\n",
       "      <td>1</td>\n",
       "      <td>2</td>\n",
       "      <td>0</td>\n",
       "      <td>0</td>\n",
       "    </tr>\n",
       "  </tbody>\n",
       "</table>\n",
       "</div>"
      ],
      "text/plain": [
       "       IP  TimeStamp  URL  Status  Anomaly  URL_Length  SVM_Anomaly  \\\n",
       "660     0          2    1       2        1           1            0   \n",
       "4339    0          4    1       2        1           1            0   \n",
       "17332   0          7   90       4        0           2            0   \n",
       "1430    0          8  165       4        1           3            0   \n",
       "4998    0         10   65       4        1           2            0   \n",
       "\n",
       "       Isolation_Forest_Anomaly  \n",
       "660                           0  \n",
       "4339                          0  \n",
       "17332                         0  \n",
       "1430                          0  \n",
       "4998                          0  "
      ]
     },
     "execution_count": 33,
     "metadata": {},
     "output_type": "execute_result"
    }
   ],
   "source": [
    "df.head()"
   ]
  },
  {
   "cell_type": "code",
   "execution_count": 34,
   "metadata": {},
   "outputs": [
    {
     "name": "stdout",
     "output_type": "stream",
     "text": [
      "One-Class SVM Accuracy: 0.5004463289444321\n",
      "Isolation Forest Accuracy: 0.510265565721937\n"
     ]
    }
   ],
   "source": [
    "svm_accuracy = (df['SVM_Anomaly'] == df['Anomaly']).mean()\n",
    "isolation_forest_accuracy = (df['Isolation_Forest_Anomaly'] == df['Anomaly']).mean()\n",
    "\n",
    "print(\"One-Class SVM Accuracy:\", svm_accuracy)\n",
    "print(\"Isolation Forest Accuracy:\", isolation_forest_accuracy)"
   ]
  },
  {
   "cell_type": "code",
   "execution_count": 35,
   "metadata": {},
   "outputs": [
    {
     "data": {
      "image/png": "[encoded data removed]",
      "text/plain": [
       "<Figure size 800x600 with 2 Axes>"
      ]
     },
     "metadata": {},
     "output_type": "display_data"
    },
    {
     "data": {
      "image/png": "[encoded data removed]",
      "text/plain": [
       "<Figure size 800x600 with 2 Axes>"
      ]
     },
     "metadata": {},
     "output_type": "display_data"
    },
    {
     "data": {
      "image/png": "[encoded data removed]",
      "text/plain": [
       "<Figure size 800x600 with 1 Axes>"
      ]
     },
     "metadata": {},
     "output_type": "display_data"
    }
   ],
   "source": [
    "df['Anomaly'] = df['Anomaly'].astype(int)\n",
    "\n",
    "svm_conf_matrix = confusion_matrix(df['Anomaly'], df['SVM_Anomaly'])\n",
    "plt.figure(figsize=(8, 6))\n",
    "plt.title('SVM Confusion Matrix')\n",
    "sns.heatmap(svm_conf_matrix, annot=True, fmt='d', cmap='Blues')\n",
    "plt.xlabel('Predicted')\n",
    "plt.ylabel('True')\n",
    "plt.show()\n",
    "\n",
    "if_conf_matrix = confusion_matrix(df['Anomaly'], df['Isolation_Forest_Anomaly'])\n",
    "plt.figure(figsize=(8, 6))\n",
    "plt.title('Isolation Forest Confusion Matrix')\n",
    "sns.heatmap(if_conf_matrix, annot=True, fmt='d', cmap='Blues')\n",
    "plt.xlabel('Predicted')\n",
    "plt.ylabel('True')\n",
    "plt.show()\n",
    "\n",
    "# SVM ROC Curve\n",
    "svm_roc_auc = roc_auc_score(df['Anomaly'], df['SVM_Anomaly'])\n",
    "fpr_svm, tpr_svm, _ = roc_curve(df['Anomaly'], df['SVM_Anomaly'])\n",
    "\n",
    "# Isolation Forest ROC Curve\n",
    "if_roc_auc = roc_auc_score(df['Anomaly'], df['Isolation_Forest_Anomaly'])\n",
    "fpr_if, tpr_if, _ = roc_curve(df['Anomaly'], df['Isolation_Forest_Anomaly'])\n",
    "\n",
    "# Plotting both ROC curves\n",
    "plt.figure(figsize=(8, 6))\n",
    "plt.plot(fpr_svm, tpr_svm, label='SVM (AUC = %0.2f)' % svm_roc_auc)\n",
    "plt.plot(fpr_if, tpr_if, label='Isolation Forest (AUC = %0.2f)' % if_roc_auc)\n",
    "plt.plot([0, 1], [0, 1], 'k--')\n",
    "plt.xlim([0.0, 1.0])\n",
    "plt.ylim([0.0, 1.05])\n",
    "plt.xlabel('False Positive Rate')\n",
    "plt.ylabel('True Positive Rate')\n",
    "plt.title('ROC Curve for SVM and Isolation Forest')\n",
    "plt.legend(loc=\"lower right\")\n",
    "plt.show()\n"
   ]
  },
  {
   "cell_type": "code",
   "execution_count": 37,
   "metadata": {},
   "outputs": [
    {
     "data": {
      "text/plain": [
       "['isolation_forest_model.pkl']"
      ]
     },
     "execution_count": 37,
     "metadata": {},
     "output_type": "execute_result"
    }
   ],
   "source": [
    "joblib.dump(svm_model, 'svm_model.pkl')\n",
    "joblib.dump(isolation_forest_model, 'isolation_forest_model.pkl')"
   ]
  }
 ],
 "metadata": {
  "kernelspec": {
   "display_name": "myenv",
   "language": "python",
   "name": "python3"
  },
  "language_info": {
   "codemirror_mode": {
    "name": "ipython",
    "version": 3
   },
   "file_extension": ".py",
   "mimetype": "text/x-python",
   "name": "python",
   "nbconvert_exporter": "python",
   "pygments_lexer": "ipython3",
   "version": "3.9.13"
  }
 },
 "nbformat": 4,
 "nbformat_minor": 2
}
